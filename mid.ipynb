{
  "cells": [
    {
      "cell_type": "code",
      "execution_count": 1,
      "metadata": {
        "id": "VA8ZAV-Zad_r",
        "outputId": "68221215-6728-42ad-ee43-4723ead34643",
        "colab": {
          "base_uri": "https://localhost:8080/"
        }
      },
      "outputs": [
        {
          "output_type": "stream",
          "name": "stdout",
          "text": [
            "Collecting gurobipy\n",
            "  Downloading gurobipy-10.0.2-cp310-cp310-manylinux2014_x86_64.whl (12.7 MB)\n",
            "\u001b[2K     \u001b[90m━━━━━━━━━━━━━━━━━━━━━━━━━━━━━━━━━━━━━━━━\u001b[0m \u001b[32m12.7/12.7 MB\u001b[0m \u001b[31m28.9 MB/s\u001b[0m eta \u001b[36m0:00:00\u001b[0m\n",
            "\u001b[?25hCollecting pyomo\n",
            "  Downloading Pyomo-6.6.2-cp310-cp310-manylinux_2_17_x86_64.manylinux2014_x86_64.whl (12.7 MB)\n",
            "\u001b[2K     \u001b[90m━━━━━━━━━━━━━━━━━━━━━━━━━━━━━━━━━━━━━━━━\u001b[0m \u001b[32m12.7/12.7 MB\u001b[0m \u001b[31m53.0 MB/s\u001b[0m eta \u001b[36m0:00:00\u001b[0m\n",
            "\u001b[?25hCollecting ply (from pyomo)\n",
            "  Downloading ply-3.11-py2.py3-none-any.whl (49 kB)\n",
            "\u001b[2K     \u001b[90m━━━━━━━━━━━━━━━━━━━━━━━━━━━━━━━━━━━━━━━━\u001b[0m \u001b[32m49.6/49.6 kB\u001b[0m \u001b[31m5.8 MB/s\u001b[0m eta \u001b[36m0:00:00\u001b[0m\n",
            "\u001b[?25hInstalling collected packages: ply, gurobipy, pyomo\n",
            "Successfully installed gurobipy-10.0.2 ply-3.11 pyomo-6.6.2\n"
          ]
        }
      ],
      "source": [
        "!pip install gurobipy pyomo"
      ]
    },
    {
      "cell_type": "code",
      "execution_count": 2,
      "metadata": {
        "id": "-tg6nxbEad_t"
      },
      "outputs": [],
      "source": [
        "from pyomo.environ import *"
      ]
    },
    {
      "cell_type": "markdown",
      "metadata": {
        "id": "h9CKDFGIad_t"
      },
      "source": [
        "# Problema 1"
      ]
    },
    {
      "cell_type": "code",
      "execution_count": 3,
      "metadata": {
        "id": "bImDEwA4ad_u",
        "outputId": "dcc27b4b-5a2d-452d-947f-4fe1e2dc58e3",
        "colab": {
          "base_uri": "https://localhost:8080/"
        }
      },
      "outputs": [
        {
          "output_type": "stream",
          "name": "stdout",
          "text": [
            "Objective function value:  4820000.0\n",
            "x[ 1 , 1 ] =  21.0\n",
            "x[ 1 , 2 ] =  10.0\n",
            "x[ 2 , 1 ] =  10.0\n",
            "x[ 2 , 2 ] =  10.0\n",
            "z =  4820000.0\n"
          ]
        }
      ],
      "source": [
        "# Creando modelo base\n",
        "problem_1 = ConcreteModel()\n",
        "\n",
        "# define sets\n",
        "problem_1.I = RangeSet(1, 2)\n",
        "problem_1.J = RangeSet(1, 2)\n",
        "problem_1.K = RangeSet(1, 3)\n",
        "\n",
        "# define data\n",
        "flight_cost = { (1,1): 120000, (1,2): 80000, (2,1): 90000, (2,2): 60000}\n",
        "capacity = { (1,1): 20, (1,2): 4, (1,3): 3, (2,1): 15, (2,2): 1, (2,3): 2}\n",
        "demand = { 1: 570, 2: 25, 3: 18}\n",
        "demandB = 350\n",
        "airport_capacity = { 1: 2000, 2: 150, 3: 230}\n",
        "\n",
        "# define parameters\n",
        "problem_1.c = Param(problem_1.I, problem_1.J, initialize=flight_cost)\n",
        "problem_1.a = Param(problem_1.I, problem_1.K, initialize=capacity)\n",
        "problem_1.demA = Param(problem_1.K, initialize=demand)\n",
        "problem_1.demB = Param(initialize=demandB)\n",
        "problem_1.airC = Param(problem_1.K, initialize=airport_capacity)\n",
        "\n",
        "# define variables\n",
        "problem_1.x = Var(problem_1.I, problem_1.J, domain=NonNegativeIntegers)\n",
        "\n",
        "# define objective function\n",
        "problem_1.z = Objective(expr=sum(problem_1.c[i,j] * problem_1.x[i, j] for i in problem_1.I for j in problem_1.J), sense=minimize)\n",
        "\n",
        "# define constraints\n",
        "problem_1.r1 = ConstraintList()\n",
        "for k in problem_1.K:\n",
        "    problem_1.r1.add(sum(problem_1.a[i,k] * problem_1.x[i,1] for i in problem_1.I) >= problem_1.demA[k])\n",
        "problem_1.r2 = Constraint(expr=sum(problem_1.a[i,1] * problem_1.x[i,2] for i in problem_1.I) >= problem_1.demB)\n",
        "problem_1.r3 = Constraint(expr=sum(problem_1.x[i,2] * problem_1.a[i,2] * 1/120 for i in problem_1.I) + sum(problem_1.x[i,2] * problem_1.a[i,3] * 1/90 for i in problem_1.I) <= 1)\n",
        "problem_1.r4 = Constraint(expr=sum(problem_1.x[1,j] * 1/120 for j in problem_1.J) + sum(problem_1.x[2,j] * 1/85 for j in problem_1.J) <= 1)\n",
        "problem_1.r5 = ConstraintList()\n",
        "for k in problem_1.K:\n",
        "    problem_1.r5.add(sum(problem_1.a[i,k]*problem_1.x[i,j] for i in problem_1.I for j in problem_1.J) <= problem_1.airC[k])\n",
        "\n",
        "# set solver\n",
        "solver = SolverFactory('gurobi')\n",
        "results = solver.solve(problem_1)\n",
        "\n",
        "# Imprimiendo resultados\n",
        "print('Objective function value: ', problem_1.z())\n",
        "for i in problem_1.I:\n",
        "    for j in problem_1.J:\n",
        "        print('x[',i,',',j,'] = ', problem_1.x[i,j]())\n",
        "print('z = ', value(problem_1.z))"
      ]
    },
    {
      "cell_type": "markdown",
      "metadata": {
        "id": "cFV_FWhDad_v"
      },
      "source": [
        "# Problema 2"
      ]
    },
    {
      "cell_type": "code",
      "execution_count": 4,
      "metadata": {
        "id": "H_GjKZUead_w",
        "outputId": "821c12cb-5d16-46a0-e5a7-7775006e70b5",
        "colab": {
          "base_uri": "https://localhost:8080/"
        }
      },
      "outputs": [
        {
          "output_type": "stream",
          "name": "stdout",
          "text": [
            "Objective function value:  5630.0\n",
            "x[ 1 ] =  87.0\n",
            "x[ 2 ] =  176.0\n",
            "x[ 3 ] =  -0.0\n"
          ]
        }
      ],
      "source": [
        "problem_2 = ConcreteModel()\n",
        "\n",
        "# define sets\n",
        "problem_2.I = RangeSet(1, 3)\n",
        "problem_2.J = RangeSet(1, 2)\n",
        "\n",
        "# define data\n",
        "loss = { 1: 62, 2: 1, 3: 30}\n",
        "cost = { 1: 40, 2: 30}\n",
        "items_per_day = 350\n",
        "amount_per_cut = { (1,1): 2, (1,2): 0, (2,1): 1, (2,2): 2, (3,1): 0, (3,2): 3}\n",
        "waste_cost = 1\n",
        "\n",
        "# define parameters\n",
        "problem_2.D = Param(problem_2.I, initialize=loss)\n",
        "problem_2.C = Param(problem_2.J, initialize=cost)\n",
        "problem_2.B = Param(initialize=items_per_day)\n",
        "problem_2.A = Param(problem_2.I, problem_2.J, initialize=amount_per_cut)\n",
        "problem_2.Wcost = Param(initialize=waste_cost)\n",
        "\n",
        "# define variables\n",
        "problem_2.Inv = Var(problem_2.J, domain=NonNegativeIntegers)\n",
        "problem_2.x = Var(problem_2.I, domain=NonNegativeIntegers)\n",
        "\n",
        "# define objective function\n",
        "problem_2.z = Objective(expr=sum(problem_2.D[i] * problem_2.x[i] * problem_2.Wcost for i in problem_2.I) + sum(problem_2.C[j] * problem_2.Inv[j] for j in problem_2.J), sense=minimize)\n",
        "\n",
        "# define constraints\n",
        "problem_2.r1 = ConstraintList()\n",
        "for j in problem_2.J:\n",
        "    problem_2.r1.add(sum(problem_2.A[i,j] * problem_2.x[i] for i in problem_2.I) >= problem_2.B)\n",
        "problem_2.r2 = ConstraintList()\n",
        "for j in problem_2.J:\n",
        "    problem_2.r2.add(problem_2.Inv[j] == sum(problem_2.A[i,j] * problem_2.x[i] for i in problem_2.I) - problem_2.B)\n",
        "\n",
        "# set solver\n",
        "solver = SolverFactory('gurobi')\n",
        "results = solver.solve(problem_2)\n",
        "\n",
        "# printing results\n",
        "print('Objective function value: ', problem_2.z())\n",
        "for i in problem_2.I:\n",
        "    print('x[',i,'] = ', problem_2.x[i]())"
      ]
    },
    {
      "cell_type": "markdown",
      "metadata": {
        "id": "t6XVQqj5ad_w"
      },
      "source": [
        "# Problema 3"
      ]
    },
    {
      "cell_type": "code",
      "execution_count": 5,
      "metadata": {
        "id": "0mxuiwklad_x",
        "outputId": "e01427e7-e34f-4534-90eb-523942d9744c",
        "colab": {
          "base_uri": "https://localhost:8080/"
        }
      },
      "outputs": [
        {
          "output_type": "stream",
          "name": "stdout",
          "text": [
            "Objective function value:  2000.0\n",
            "x[ 1 ] =  2700.0\n",
            "e[ 1 ] =  100.0\n",
            "I[ 1 ] =  0.0\n",
            "x[ 2 ] =  2700.0\n",
            "e[ 2 ] =  0.0\n",
            "I[ 2 ] =  500.0\n",
            "x[ 3 ] =  2700.0\n",
            "e[ 3 ] =  0.0\n",
            "I[ 3 ] =  -0.0\n",
            "x[ 4 ] =  2500.0\n",
            "e[ 4 ] =  -0.0\n",
            "I[ 4 ] =  0.0\n"
          ]
        }
      ],
      "source": [
        "problem_3 = ConcreteModel()\n",
        "\n",
        "# define sets\n",
        "problem_3.T = RangeSet(1, 4)\n",
        "\n",
        "# demand dictionary for dem{T}\n",
        "demand = { 1: 2800, 2: 2200, 3: 3200, 4: 2500}\n",
        "inventory_cost = 2\n",
        "overtime_cost = 10\n",
        "prod_capacity = 2700\n",
        "overtime_capacity = 300\n",
        "\n",
        "# define parameters\n",
        "problem_3.dem = Param(problem_3.T, initialize=demand)\n",
        "problem_3.h = Param(initialize=inventory_cost)\n",
        "problem_3.ce = Param(initialize=overtime_cost)\n",
        "problem_3.cap = Param(initialize=prod_capacity)\n",
        "problem_3.capE = Param(initialize=overtime_capacity)\n",
        "\n",
        "# define variables\n",
        "problem_3.x = Var(problem_3.T, domain=NonNegativeIntegers)\n",
        "problem_3.e = Var(problem_3.T, domain=NonNegativeIntegers)\n",
        "problem_3.I = Var(problem_3.T.union({0}), domain=NonNegativeIntegers)\n",
        "\n",
        "# define objective function\n",
        "problem_3.z = Objective(expr=sum(problem_3.e[t] * problem_3.ce + problem_3.I[t] * problem_3.h for t in problem_3.T), sense=minimize)\n",
        "\n",
        "# define constraints\n",
        "problem_3.r1 = ConstraintList()\n",
        "for t in problem_3.T:\n",
        "    problem_3.r1.add(problem_3.x[t] <= problem_3.cap)\n",
        "problem_3.r2 = ConstraintList()\n",
        "for t in problem_3.T:\n",
        "    problem_3.r2.add(problem_3.e[t] <= problem_3.capE)\n",
        "problem_3.r3 = ConstraintList()\n",
        "for t in problem_3.T:\n",
        "    problem_3.r3.add(problem_3.I[t-1] + problem_3.x[t] + problem_3.e[t] == problem_3.I[t] + problem_3.dem[t])\n",
        "problem_3.r4 = Constraint(expr=problem_3.I[0] == 0)\n",
        "problem_3.r5 = Constraint(expr=problem_3.I[4] == 0)\n",
        "\n",
        "# set solver\n",
        "solver = SolverFactory('gurobi')\n",
        "results = solver.solve(problem_3)\n",
        "\n",
        "# print results\n",
        "print('Objective function value: ', problem_3.z())\n",
        "# print matrix demand, x, e, i\n",
        "\n",
        "for t in problem_3.T:\n",
        "    print('x[',t,'] = ', problem_3.x[t]())\n",
        "    print('e[',t,'] = ', problem_3.e[t]())\n",
        "    print('I[',t,'] = ', problem_3.I[t]())\n",
        "\n",
        "\n"
      ]
    },
    {
      "cell_type": "markdown",
      "metadata": {
        "id": "HwJwk_PEad_x"
      },
      "source": [
        "## Variación propuesta\n"
      ]
    },
    {
      "cell_type": "code",
      "source": [],
      "metadata": {
        "id": "z5eHRO2YckSy"
      },
      "execution_count": 5,
      "outputs": []
    },
    {
      "cell_type": "markdown",
      "metadata": {
        "id": "oOWPoSNcad_y"
      },
      "source": [
        "# Problema 4"
      ]
    },
    {
      "cell_type": "code",
      "execution_count": 6,
      "metadata": {
        "id": "ArDSSh41ad_y",
        "outputId": "18d52918-d3e1-4f80-a658-b065d6c3caae",
        "colab": {
          "base_uri": "https://localhost:8080/"
        }
      },
      "outputs": [
        {
          "output_type": "stream",
          "name": "stdout",
          "text": [
            "Objective function value:  16050.0\n",
            "x[ 1 , 1 ] =  8.0\n",
            "x[ 1 , 2 ] =  0.0\n",
            "x[ 1 , 3 ] =  9.0\n",
            "x[ 2 , 1 ] =  0.0\n",
            "x[ 2 , 2 ] =  15.0\n",
            "x[ 2 , 3 ] =  0.0\n",
            "x[ 3 , 1 ] =  8.0\n",
            "x[ 3 , 2 ] =  0.0\n",
            "x[ 3 , 3 ] =  0.0\n",
            "x[ 4 , 1 ] =  0.0\n",
            "x[ 4 , 2 ] =  5.0\n",
            "x[ 4 , 3 ] =  5.0\n"
          ]
        }
      ],
      "source": [
        "problem_4 = ConcreteModel()\n",
        "\n",
        "# define sets\n",
        "problem_4.I = RangeSet(1, 4)\n",
        "problem_4.J = RangeSet(1, 3)\n",
        "\n",
        "# define data\n",
        "utility = { 1: 250, 2: 280, 3: 500, 4: 360}\n",
        "max_weight_capacity = { 1: 16, 2: 20, 3: 14}\n",
        "max_volume_capacity = { 1: 200, 2: 250, 3: 150}\n",
        "load_qty = { 1: 20, 2: 15, 3: 8, 4: 10}\n",
        "max_volume_of_type = { 1: 1, 2: 2, 3: 10, 4: 6}\n",
        "\n",
        "# define parameters\n",
        "problem_4.u = Param(problem_4.I, initialize=utility)\n",
        "problem_4.P = Param(problem_4.J, initialize=max_weight_capacity)\n",
        "problem_4.V = Param(problem_4.J, initialize=max_volume_capacity)\n",
        "problem_4.C = Param(problem_4.I, initialize=load_qty)\n",
        "problem_4.Vol = Param(problem_4.I, initialize=max_volume_of_type)\n",
        "\n",
        "# define variables\n",
        "problem_4.x = Var(problem_4.I, problem_4.J, domain=NonNegativeReals)\n",
        "problem_4.G = Var(domain=NonNegativeReals)\n",
        "\n",
        "# define objective function\n",
        "problem_4.z = Objective(expr=sum(problem_4.u[i] * problem_4.x[i,j] for i in problem_4.I for j in problem_4.J), sense=maximize)\n",
        "\n",
        "# define constraints\n",
        "problem_4.r1 = ConstraintList()\n",
        "for j in problem_4.J:\n",
        "    problem_4.r1.add(sum(problem_4.x[i,j] for i in problem_4.I) <= problem_4.P[j])\n",
        "problem_4.r2 = ConstraintList()\n",
        "for j in problem_4.J:\n",
        "    problem_4.r2.add(sum(problem_4.Vol[i] * problem_4.x[i,j] for i in problem_4.I) <= problem_4.V[j])\n",
        "problem_4.r3 = ConstraintList()\n",
        "for i in problem_4.I:\n",
        "    problem_4.r3.add(sum(problem_4.x[i,j] for j in problem_4.J) <= problem_4.C[i])\n",
        "problem_4.r4 = ConstraintList()\n",
        "for j in problem_4.J:\n",
        "    problem_4.r4.add(sum(problem_4.x[i,j]/problem_4.P[j] for i in problem_4.I) == problem_4.G)\n",
        "\n",
        "# set solver\n",
        "solver = SolverFactory('gurobi')\n",
        "results = solver.solve(problem_4)\n",
        "\n",
        "# print results\n",
        "print('Objective function value: ', problem_4.z())\n",
        "for i in problem_4.I:\n",
        "    for j in problem_4.J:\n",
        "        print('x[',i,',',j,'] = ', problem_4.x[i,j]())\n"
      ]
    },
    {
      "cell_type": "markdown",
      "metadata": {
        "id": "iHbWloo2ad_y"
      },
      "source": [
        "# Problema 5"
      ]
    },
    {
      "cell_type": "code",
      "execution_count": 7,
      "metadata": {
        "id": "vX36t37vad_y",
        "outputId": "43905828-312b-4367-c33e-ee770aecfd59",
        "colab": {
          "base_uri": "https://localhost:8080/"
        }
      },
      "outputs": [
        {
          "output_type": "stream",
          "name": "stdout",
          "text": [
            "Objective Value: 165.6696428571429\n",
            "X:\n",
            "1 1 25.71428571428571\n",
            "1 2 34.285714285714285\n",
            "1 3 0.0\n",
            "2 1 35.0\n",
            "2 2 35.0\n",
            "2 3 0.0\n",
            "3 1 0.0\n",
            "3 2 82.83482142857144\n",
            "3 3 82.83482142857144\n"
          ]
        }
      ],
      "source": [
        "problem_5 = ConcreteModel()\n",
        "\n",
        "# define sets\n",
        "problem_5.I = RangeSet(1, 3)\n",
        "problem_5.J = RangeSet(1, 3)\n",
        "problem_5.K = RangeSet(1, 3)\n",
        "\n",
        "# define data\n",
        "composition = { (1,1): 80, (1,2): 10, (1,3): 5, (2,1): 45, (2,2): 30, (2,3): 20, (3,1): 30, (3,2): 40, (3,3): 25}\n",
        "required_composition_in_gas = { (1,1): 60, (1,2): 25, (1,3): 10, (2,1): 30, (2,2): 20, (2,3): 15, (3,1): 40, (3,2): 35, (3,3): 20}\n",
        "cost_per_barrel_of_crude = { 1: 250, 2: 120, 3: 200}\n",
        "budget = 50000\n",
        "available_crude = { 2: 300, 3: 700}\n",
        "A_barrels_to_buy = 10\n",
        "demand = { 1: 60, 2: 70}\n",
        "\n",
        "\n",
        "# define parameters\n",
        "problem_5.PC = Param(problem_5.J, problem_5.K, initialize=composition)\n",
        "problem_5.PG = Param(problem_5.I, problem_5.K, initialize=required_composition_in_gas)\n",
        "problem_5.CostoC = Param(problem_5.J, initialize=cost_per_barrel_of_crude)\n",
        "problem_5.Presu = Param(initialize=budget)\n",
        "problem_5.available_crude = Param(RangeSet(2,3), initialize=available_crude)\n",
        "problem_5.BA = Param(initialize=A_barrels_to_buy)\n",
        "problem_5.DEM = Param(RangeSet(1,2), initialize=demand)\n",
        "\n",
        "# Define variables\n",
        "problem_5.X = Var(problem_5.I, problem_5.J, within=NonNegativeReals)\n",
        "\n",
        "# Define objective function\n",
        "problem_5.z = Objective(expr=sum(problem_5.X[3, j] for j in problem_5.J), sense=maximize)\n",
        "\n",
        "# Define constraints\n",
        "problem_5.r1 = ConstraintList()\n",
        "for k in [1, 3]:\n",
        "    problem_5.r1.add(sum(problem_5.PC[j, k] * problem_5.X[1, j] for j in problem_5.J) >= problem_5.PG[1, k] * sum(problem_5.X[1, j] for j in problem_5.J))\n",
        "problem_5.r2 = Constraint(expr=sum(problem_5.PC[j, 2] * problem_5.X[1, j] for j in problem_5.J) <= problem_5.PG[1, 2] * sum(problem_5.X[1, j] for j in problem_5.J))\n",
        "problem_5.r3 = ConstraintList()\n",
        "for k in [2, 3]:\n",
        "    problem_5.r3.add(sum(problem_5.PC[j, k] * problem_5.X[2, j] for j in problem_5.J) <= problem_5.PG[2, k] * sum(problem_5.X[2, j] for j in problem_5.J))\n",
        "problem_5.r4 = Constraint(expr=sum(problem_5.PC[j, 1] * problem_5.X[2, j] for j in problem_5.J) >= problem_5.PG[2, 1] * sum(problem_5.X[2, j] for j in problem_5.J))\n",
        "problem_5.r5 = ConstraintList()\n",
        "for k in [2, 3]:\n",
        "    problem_5.r5.add(sum(problem_5.PC[j, k] * problem_5.X[3, j] for j in problem_5.J) >= problem_5.PG[3, k] * sum(problem_5.X[3, j] for j in problem_5.J))\n",
        "problem_5.r6 = Constraint(expr=sum(problem_5.PC[j, 1] * problem_5.X[3, j] for j in problem_5.J) <= problem_5.PG[3, 1] * sum(problem_5.X[3, j] for j in problem_5.J))\n",
        "problem_5.r7 = Constraint(expr=sum(problem_5.X[i, j] * problem_5.CostoC[j] for i in problem_5.I for j in problem_5.J) <= problem_5.Presu)\n",
        "problem_5.r8 = Constraint(expr=sum(problem_5.X[i, 1] for i in problem_5.I) >= problem_5.BA)\n",
        "problem_5.r9 = ConstraintList()\n",
        "for i in [1, 2]:\n",
        "    problem_5.r9.add(sum(problem_5.X[i, j] for j in problem_5.J) >= problem_5.DEM[i])\n",
        "\n",
        "# set solver\n",
        "solver = SolverFactory('gurobi')\n",
        "results = solver.solve(problem_5)\n",
        "\n",
        "# Print results\n",
        "print(\"Objective Value:\", problem_5.z())\n",
        "print(\"X:\")\n",
        "for i in problem_5.I:\n",
        "    for j in problem_5.J:\n",
        "        print(i, j, problem_5.X[i, j].value)"
      ]
    },
    {
      "cell_type": "markdown",
      "metadata": {
        "id": "W_F5GUMHad_y"
      },
      "source": [
        "## variación propuesta\n",
        "\n",
        "Se debe agregar una restricción indicando que la mezcla estará sujeta a un 95%"
      ]
    },
    {
      "cell_type": "code",
      "execution_count": 8,
      "metadata": {
        "id": "9kMDIMibad_y",
        "outputId": "ae9a305d-7e5c-4027-ca24-1d4b7e63a35c",
        "colab": {
          "base_uri": "https://localhost:8080/"
        }
      },
      "outputs": [
        {
          "output_type": "stream",
          "name": "stdout",
          "text": [
            "Objective Value: 157.94172932330827\n",
            "X:\n",
            "1 1 27.06766917293233\n",
            "1 2 36.090225563909776\n",
            "1 3 0.0\n",
            "2 1 36.8421052631579\n",
            "2 2 36.8421052631579\n",
            "2 3 0.0\n",
            "3 1 0.0\n",
            "3 2 78.97086466165413\n",
            "3 3 78.97086466165413\n"
          ]
        }
      ],
      "source": [
        "problem_5 = ConcreteModel()\n",
        "\n",
        "# define sets\n",
        "problem_5.I = RangeSet(1, 3)\n",
        "problem_5.J = RangeSet(1, 3)\n",
        "problem_5.K = RangeSet(1, 3)\n",
        "\n",
        "# define data\n",
        "composition = { (1,1): 80, (1,2): 10, (1,3): 5, (2,1): 45, (2,2): 30, (2,3): 20, (3,1): 30, (3,2): 40, (3,3): 25}\n",
        "required_composition_in_gas = { (1,1): 60, (1,2): 25, (1,3): 10, (2,1): 30, (2,2): 20, (2,3): 15, (3,1): 40, (3,2): 35, (3,3): 20}\n",
        "cost_per_barrel_of_crude = { 1: 250, 2: 120, 3: 200}\n",
        "budget = 50000\n",
        "available_crude = { 2: 300, 3: 700}\n",
        "A_barrels_to_buy = 10\n",
        "demand = { 1: 60, 2: 70}\n",
        "loss = 0.05\n",
        "\n",
        "# define parameters\n",
        "problem_5.PC = Param(problem_5.J, problem_5.K, initialize=composition)\n",
        "problem_5.PG = Param(problem_5.I, problem_5.K, initialize=required_composition_in_gas)\n",
        "problem_5.CostoC = Param(problem_5.J, initialize=cost_per_barrel_of_crude)\n",
        "problem_5.Presu = Param(initialize=budget)\n",
        "problem_5.available_crude = Param(RangeSet(2,3), initialize=available_crude)\n",
        "problem_5.BA = Param(initialize=A_barrels_to_buy)\n",
        "problem_5.DEM = Param(RangeSet(1,2), initialize=demand)\n",
        "problem_5.LOSS = Param(initialize=loss)\n",
        "\n",
        "# Define variables\n",
        "problem_5.X = Var(problem_5.I, problem_5.J, within=NonNegativeReals)\n",
        "\n",
        "# Define objective function\n",
        "problem_5.z = Objective(expr=sum(problem_5.X[3, j] for j in problem_5.J), sense=maximize)\n",
        "\n",
        "# Define constraints\n",
        "problem_5.r1 = ConstraintList()\n",
        "for k in [1, 3]:\n",
        "    problem_5.r1.add(sum(problem_5.PC[j, k] * problem_5.X[1, j] for j in problem_5.J) >= problem_5.PG[1, k] * sum(problem_5.X[1, j] for j in problem_5.J))\n",
        "problem_5.r2 = Constraint(expr=sum(problem_5.PC[j, 2] * problem_5.X[1, j] for j in problem_5.J) <= problem_5.PG[1, 2] * sum(problem_5.X[1, j] for j in problem_5.J))\n",
        "problem_5.r3 = ConstraintList()\n",
        "for k in [2, 3]:\n",
        "    problem_5.r3.add(sum(problem_5.PC[j, k] * problem_5.X[2, j] for j in problem_5.J) <= problem_5.PG[2, k] * sum(problem_5.X[2, j] for j in problem_5.J))\n",
        "problem_5.r4 = Constraint(expr=sum(problem_5.PC[j, 1] * problem_5.X[2, j] for j in problem_5.J) >= problem_5.PG[2, 1] * sum(problem_5.X[2, j] for j in problem_5.J))\n",
        "problem_5.r5 = ConstraintList()\n",
        "for k in [2, 3]:\n",
        "    problem_5.r5.add(sum(problem_5.PC[j, k] * problem_5.X[3, j] for j in problem_5.J) >= problem_5.PG[3, k] * sum(problem_5.X[3, j] for j in problem_5.J))\n",
        "problem_5.r6 = Constraint(expr=sum(problem_5.PC[j, 1] * problem_5.X[3, j] for j in problem_5.J) <= problem_5.PG[3, 1] * sum(problem_5.X[3, j] for j in problem_5.J))\n",
        "problem_5.r7 = Constraint(expr=sum(problem_5.X[i, j] * problem_5.CostoC[j] for i in problem_5.I for j in problem_5.J) <= problem_5.Presu)\n",
        "problem_5.r8 = Constraint(expr=sum(problem_5.X[i, 1] for i in problem_5.I) >= problem_5.BA)\n",
        "problem_5.r9 = ConstraintList()\n",
        "for i in [1, 2]:\n",
        "    problem_5.r9.add(sum(problem_5.X[i, j] * (1 - problem_5.LOSS) for j in problem_5.J) >= problem_5.DEM[i])\n",
        "\n",
        "\n",
        "# set solver\n",
        "solver = SolverFactory('gurobi')\n",
        "results = solver.solve(problem_5)\n",
        "\n",
        "# Print results\n",
        "print(\"Objective Value:\", problem_5.z())\n",
        "print(\"X:\")\n",
        "for i in problem_5.I:\n",
        "    for j in problem_5.J:\n",
        "        print(i, j, problem_5.X[i, j].value)"
      ]
    },
    {
      "cell_type": "markdown",
      "source": [
        "# Problema 6"
      ],
      "metadata": {
        "id": "pD_kTQJucylE"
      }
    },
    {
      "cell_type": "code",
      "execution_count": 9,
      "metadata": {
        "id": "Am6VIj0Qad_y",
        "outputId": "2f8f782e-6568-45e5-b1e0-a0fcacad78c7",
        "colab": {
          "base_uri": "https://localhost:8080/"
        }
      },
      "outputs": [
        {
          "output_type": "stream",
          "name": "stdout",
          "text": [
            "Solución optima:\n",
            "Valor óptimo: 7900.0\n",
            "bodega, planta\n",
            "1 1 -0.0\n",
            "2 1 875.0\n",
            "3 1 -0.0\n",
            "4 1 -0.0\n",
            "1 2 -0.0\n",
            "2 2 625.0\n",
            "3 2 -0.0\n",
            "4 2 375.0\n",
            "1 3 625.0\n",
            "2 3 -0.0\n",
            "3 3 -0.0\n",
            "4 3 -0.0\n",
            "1 4 -0.0\n",
            "2 4 -0.0\n",
            "3 4 -0.0\n",
            "4 4 500.0\n"
          ]
        }
      ],
      "source": [
        "problem_6 = ConcreteModel()\n",
        "\n",
        "# define sets\n",
        "problem_6.I = RangeSet(1,4)\n",
        "problem_6.J = RangeSet(1,4)\n",
        "\n",
        "# define data\n",
        "fixed_cost = { 3: 1000, 4: 900}\n",
        "transportation_cost = { (1,1): 6, (1,2): 4, (1,3): 2, (1,4): 6,\n",
        "                        (2,1): 2, (2,2): 3, (2,3): 7, (2,4): 5,\n",
        "                        (3,1): 3, (3,2): 2, (3,3): 4, (3,4): 8,\n",
        "                        (4,1): 6, (4,2): 3, (4,3): 4, (4,4): 2}\n",
        "warehouse_demand = { 1: 700*1.25, 2: 800*1.25, 3: 500*1.25, 4: 400*1.25}\n",
        "warehouse_capacity = { 1: 900, 2: 1500, 3: 900, 4: 900}\n",
        "\n",
        "# define parameters\n",
        "problem_6.CF = Param(RangeSet(3,4), initialize=fixed_cost)\n",
        "problem_6.CT = Param(problem_6.I, problem_6.J, initialize=transportation_cost)\n",
        "problem_6.DEM = Param(problem_6.J, initialize=warehouse_demand)\n",
        "problem_6.CAP = Param(problem_6.I, initialize=warehouse_capacity)\n",
        "\n",
        "# define variables\n",
        "problem_6.x = Var(problem_6.I, problem_6.J, domain=NonNegativeIntegers)\n",
        "problem_6.y = Var(RangeSet(3,4), domain=Binary)\n",
        "\n",
        "# define objective function\n",
        "problem_6.z = Objective(expr=sum(problem_6.CT[i,j] * problem_6.x[i,j] for i in problem_6.I for j in problem_6.J) + sum(problem_6.CF[i] * problem_6.y[i] for i in RangeSet(3,4)), sense=minimize)\n",
        "\n",
        "# define constraints\n",
        "problem_6.r1 = ConstraintList()\n",
        "for j in problem_6.J:\n",
        "    problem_6.r1.add(sum(problem_6.x[i,j] for i in problem_6.I) >= problem_6.DEM[j])\n",
        "problem_6.r2 = ConstraintList()\n",
        "for i in {1,2}:\n",
        "    problem_6.r2.add(sum(problem_6.x[i,j] for j in problem_6.J) <= problem_6.CAP[i])\n",
        "problem_6.r3 = ConstraintList()\n",
        "for i in {3,4}:\n",
        "    problem_6.r3.add(sum(problem_6.x[i,j] for j in problem_6.J) <= problem_6.CAP[i] * problem_6.y[i])\n",
        "problem_6.r4 = Constraint(expr=sum(problem_6.y[i] for i in RangeSet(3,4)) == 1)\n",
        "\n",
        "# set solver\n",
        "solver = SolverFactory('gurobi')\n",
        "results = solver.solve(problem_6)\n",
        "\n",
        "# print results\n",
        "print('Solución optima:')\n",
        "print('Valor óptimo:', value(problem_6.z))\n",
        "print('bodega, planta')\n",
        "for j in problem_6.J:\n",
        "    for i in problem_6.I:\n",
        "        print(i, j, problem_6.x[i, j].value)"
      ]
    },
    {
      "cell_type": "markdown",
      "metadata": {
        "id": "nKbTgro7ad_z"
      },
      "source": [
        "# variación del estudiante\n",
        "\n",
        "considerar que las nuevas plantas tienen una capacidad desconocida"
      ]
    },
    {
      "cell_type": "markdown",
      "source": [
        "# Problema 7"
      ],
      "metadata": {
        "id": "Ya61pNpTc8Eo"
      }
    },
    {
      "cell_type": "code",
      "execution_count": 10,
      "metadata": {
        "id": "B0h_EReHad_z",
        "outputId": "50af1385-ee7d-46bf-feec-18cc0a9bbfc9",
        "colab": {
          "base_uri": "https://localhost:8080/"
        }
      },
      "outputs": [
        {
          "output_type": "stream",
          "name": "stdout",
          "text": [
            "Solución optima:\n",
            "mineral, mina, cuatrimestre\n",
            "1 1 1 0.0\n",
            "1 1 2 0.0\n",
            "1 1 3 0.0\n",
            "2 1 1 25.0\n",
            "2 1 2 8.0\n",
            "2 1 3 17.0\n",
            "3 1 1 0.0\n",
            "3 1 2 0.0\n",
            "3 1 3 0.0\n",
            "4 1 1 70.0\n",
            "4 1 2 85.0\n",
            "4 1 3 52.0\n",
            "5 1 1 60.0\n",
            "5 1 2 26.0\n",
            "5 1 3 35.0\n",
            "1 2 1 50.0\n",
            "1 2 2 75.0\n",
            "1 2 3 80.0\n",
            "2 2 1 0.0\n",
            "2 2 2 0.0\n",
            "2 2 3 0.0\n",
            "3 2 1 9.0\n",
            "3 2 2 10.0\n",
            "3 2 3 5.0\n",
            "4 2 1 0.0\n",
            "4 2 2 0.0\n",
            "4 2 3 0.0\n",
            "5 2 1 0.0\n",
            "5 2 2 0.0\n",
            "5 2 3 0.0\n",
            "1 3 1 0.0\n",
            "1 3 2 0.0\n",
            "1 3 3 0.0\n",
            "2 3 1 0.0\n",
            "2 3 2 0.0\n",
            "2 3 3 0.0\n",
            "3 3 1 0.0\n",
            "3 3 2 0.0\n",
            "3 3 3 0.0\n",
            "4 3 1 0.0\n",
            "4 3 2 0.0\n",
            "4 3 3 0.0\n",
            "5 3 1 0.0\n",
            "5 3 2 0.0\n",
            "5 3 3 0.0\n",
            "Valor óptimo: 96325.0\n"
          ]
        }
      ],
      "source": [
        "problem_7 = ConcreteModel()\n",
        "\n",
        "# define sets\n",
        "problem_7.I = RangeSet(1,5)\n",
        "problem_7.J = RangeSet(1,3)\n",
        "problem_7.T = RangeSet(1,3)\n",
        "\n",
        "# define variables\n",
        "variable_cost = { (1,1): 250, (1,2): 125, (1,3): 200,\n",
        "                (2,1): 125, (2,2): 300, (2,3): 350,\n",
        "                (3,1): 500, (3,2): 450, (3,3): 600,\n",
        "                (4,1): 100, (4,2): 200, (4,3): 125,\n",
        "                (5,1): 250, (5,2): 400, (5,3): 300}\n",
        "\n",
        "fixed_cost = { (1,1): 600, (1,2): 700, (1,3): 800,\n",
        "                (2,1): 200, (2,2): 150, (2,3): 300,\n",
        "                (3,1): 800, (3,2): 1000, (3,3): 900,\n",
        "                (4,1): 300, (4,2): 120, (4,3): 250,\n",
        "                (5,1): 500, (5,2): 400, (5,3): 225}\n",
        "\n",
        "extraction_capacity = { (1,1): 600, (1,2): 200, (1,3): 800,\n",
        "                        (2,1): 900, (2,2): 300, (2,3): 500,\n",
        "                        (3,1): 400, (3,2): 800, (3,3): 300}\n",
        "\n",
        "demand = { (1,1): 50, (1,2): 75, (1,3): 80,\n",
        "            (2,1): 25, (2,2): 8, (2,3): 17,\n",
        "            (3,1): 9, (3,2): 10, (3,3): 5,\n",
        "            (4,1): 70, (4,2): 85, (4,3): 52,\n",
        "            (5,1): 60, (5,2): 26, (5,3): 35}\n",
        "\n",
        "# define parameters\n",
        "problem_7.CF = Param(problem_7.I, problem_7.J, initialize=variable_cost)\n",
        "problem_7.CT = Param(problem_7.I, problem_7.J, initialize=fixed_cost)\n",
        "problem_7.Cap = Param(problem_7.J, problem_7.T, initialize=extraction_capacity)\n",
        "problem_7.Dem = Param(problem_7.I, problem_7.T, initialize=demand)\n",
        "problem_7.M = Param(initialize=1000000)\n",
        "\n",
        "# define variables\n",
        "problem_7.x = Var(problem_7.I, problem_7.J, problem_7.T, domain=NonNegativeReals)\n",
        "problem_7.y = Var(problem_7.I, problem_7.J, domain=Binary)\n",
        "\n",
        "# define objective function\n",
        "problem_7.z = Objective(expr=sum(problem_7.CF[i,j] * problem_7.x[i,j,t] for i in problem_7.I for j in problem_7.J for t in problem_7.T) + sum(problem_7.CT[i,j] * problem_7.y[i,j] for i in problem_7.I for j in problem_7.J), sense=minimize)\n",
        "\n",
        "# define constraints\n",
        "problem_7.r1 = ConstraintList()\n",
        "for j in problem_7.J:\n",
        "    for t in problem_7.T:\n",
        "        problem_7.r1.add(sum(problem_7.x[i,j,t] for i in problem_7.I) <= problem_7.Cap[j,t])\n",
        "problem_7.r2 = ConstraintList()\n",
        "for i in problem_7.I:\n",
        "    for t in problem_7.T:\n",
        "        problem_7.r1.add(sum(problem_7.x[i,j,t] for j in problem_7.J) >= problem_7.Dem[i,t])\n",
        "problem_7.r3 = ConstraintList()\n",
        "for i in problem_7.I:\n",
        "    for j in problem_7.J:\n",
        "        problem_7.r1.add(sum(problem_7.x[i,j,t] for t in problem_7.T) <= problem_7.M * problem_7.y[i,j])\n",
        "\n",
        "# set solver\n",
        "solver = SolverFactory('gurobi')\n",
        "results = solver.solve(problem_7)\n",
        "\n",
        "print('Solución optima:')\n",
        "print('mineral, mina, cuatrimestre')\n",
        "for j in problem_7.J:\n",
        "    for i in problem_7.I:\n",
        "        for t in problem_7.T:\n",
        "            print(i, j, t, problem_7.x[i,j,t].value)\n",
        "print('Valor óptimo:', value(problem_7.z))"
      ]
    },
    {
      "cell_type": "markdown",
      "source": [
        "# Problema 8"
      ],
      "metadata": {
        "id": "SgiqpqIhc-Pp"
      }
    },
    {
      "cell_type": "code",
      "execution_count": 11,
      "metadata": {
        "id": "pOZ1CbUoad_z",
        "outputId": "10eb4c52-0a92-4330-9737-c65860cc9b38",
        "colab": {
          "base_uri": "https://localhost:8080/"
        }
      },
      "outputs": [
        {
          "output_type": "stream",
          "name": "stdout",
          "text": [
            "Solución optima:\n",
            "(0, 1) 1.0\n",
            "(1, 6) 1.0\n",
            "(6, 7) 1.0\n",
            "Valor óptimo: 24.0\n"
          ]
        }
      ],
      "source": [
        "problem_8 = ConcreteModel()\n",
        "\n",
        "# define sets\n",
        "problem_8.I = RangeSet(0,7)\n",
        "problem_8.A = Set(within=problem_8.I * problem_8.I, initialize=lambda model: [(i,j) for i in model.I for j in model.I if i != j])\n",
        "\n",
        "# define data\n",
        "cost = {\n",
        "    (0, 1): 3, (0, 2): 6, (0, 3): 1000, (0, 4): 10, (0, 5): 1000, (0, 6): 1000, (0, 7): 1000,\n",
        "    (1, 0): 8, (1, 2): 10, (1, 3): 2, (1, 4): 1, (1, 5): 9, (1, 6): 3, (1, 7): 1000,\n",
        "    (2, 0): 7, (2, 1): 6, (2, 3): 1, (2, 4): 5, (2, 5): 3, (2, 6): 5, (2, 7): 1000,\n",
        "    (3, 0): 1000, (3, 1): 8, (3, 2): 8, (3, 4): 3, (3, 5): 9, (3, 6): 10, (3, 7): 1000,\n",
        "    (4, 0): 4, (4, 1): 7, (4, 2): 7, (4, 3): 4, (4, 5): 2, (4, 6): 5, (4, 7): 10,\n",
        "    (5, 0): 1000, (5, 1): 4, (5, 2): 2, (5, 3): 9, (5, 4): 1, (5, 6): 2, (5, 7): 8,\n",
        "    (6, 0): 1000, (6, 1): 6, (6, 2): 2, (6, 3): 7, (6, 4): 10, (6, 5): 2, (6, 7): 3,\n",
        "    (7, 0): 1000, (7, 1): 1000, (7, 2): 1000, (7, 3): 1000, (7, 4): 1, (7, 5): 6, (7, 6): 6\n",
        "}\n",
        "door = {0: 0, 1: 6, 2: 8, 3: 8, 4: 2, 5: 7, 6: 6, 7: 3}\n",
        "\n",
        "# defina parameters\n",
        "problem_8.c = Param(problem_8.A, initialize=cost)\n",
        "problem_8.door = Param(problem_8.I, initialize=door)\n",
        "\n",
        "# define variables\n",
        "problem_8.x = Var(problem_8.A, domain=Binary)\n",
        "problem_8.y = Var(problem_8.I, domain=Binary)\n",
        "\n",
        "# define objective function\n",
        "problem_8.z = Objective(expr=sum(problem_8.c[i,j] * problem_8.x[i,j] for (i,j) in problem_8.A if i!=j) + sum(problem_8.door[i] * problem_8.y[i] for i in problem_8.I), sense=minimize)\n",
        "\n",
        "# define constraints\n",
        "problem_8.r1 = Constraint(expr=sum(problem_8.x[0,i] for i in problem_8.I if i != 0) == 1)\n",
        "problem_8.r2 = Constraint(expr=sum(problem_8.x[i,7] for i in problem_8.I if i != 7) == 1)\n",
        "problem_8.r3 = ConstraintList()\n",
        "for j in problem_8.I:\n",
        "    if j != 0 and j != 7:\n",
        "        problem_8.r3.add(sum(problem_8.x[i,j] for i in problem_8.I if i != j) == sum(problem_8.x[j,i] for i in problem_8.I if i != j))\n",
        "problem_8.r4 = ConstraintList()\n",
        "for i in problem_8.I:\n",
        "    problem_8.r4.add(problem_8.y[i] >= sum(problem_8.x[j,i] for j in problem_8.I if j != i))\n",
        "\n",
        "# set solver\n",
        "solver = SolverFactory('gurobi')\n",
        "results = solver.solve(problem_8)\n",
        "\n",
        "# print results\n",
        "print('Solución optima:')\n",
        "for x in problem_8.x:\n",
        "    if value(problem_8.x[x]) > 0:\n",
        "        print(x, value(problem_8.x[x]))\n",
        "print('Valor óptimo:', value(problem_8.z))"
      ]
    },
    {
      "cell_type": "markdown",
      "source": [
        "# Problema 9"
      ],
      "metadata": {
        "id": "VCkve29Cc_7-"
      }
    },
    {
      "cell_type": "code",
      "execution_count": 12,
      "metadata": {
        "id": "e6j2m105ad_z",
        "outputId": "c4342f03-ac8b-4ad6-8c16-5eebff59d8c4",
        "colab": {
          "base_uri": "https://localhost:8080/"
        }
      },
      "outputs": [
        {
          "output_type": "stream",
          "name": "stdout",
          "text": [
            "Solución optima:\n",
            "1 2 3 4 5 \n",
            "Puertas no entregadas -0.0 -0.0 -0.0 54.0 -0.0 0.0 \n",
            "Puertas en inventario 54.0 86.0 66.0 -0.0 2.0 10.0 \n",
            "Expertos en producción 18.0 29.0 35.0 35.0 32.0 20.0 \n",
            "Novatos en capacitación 10.0 5.0 0.0 0.0 0.0 0.0 \n",
            "Operarios despedidos 0.0 -0.0 0.0 3.0 -0.0 0.0 \n",
            "Valor óptimo: 20700.0\n"
          ]
        }
      ],
      "source": [
        "problem_9 = ConcreteModel()\n",
        "\n",
        "# define set T 1..5\n",
        "problem_9.T = RangeSet(1,5)\n",
        "\n",
        "demand = {1: 100, 2: 200, 3: 300, 4: 400, 5: 200}\n",
        "storage_cost = 10\n",
        "miss_cost = 30\n",
        "salary = 100\n",
        "firing_cost = 100\n",
        "doors_per_worker_week = 8\n",
        "\n",
        "# define parameters\n",
        "problem_9.D = Param(problem_9.T, initialize=demand)\n",
        "problem_9.Ch = Param(initialize=storage_cost)\n",
        "problem_9.Cf = Param(initialize=miss_cost)\n",
        "problem_9.C1 = Param(initialize=salary)\n",
        "problem_9.C2 = Param(initialize=firing_cost)\n",
        "problem_9.Num = Param(initialize=doors_per_worker_week)\n",
        "\n",
        "# define variables\n",
        "problem_9.x = Var(problem_9.T.union({0}), domain=NonNegativeIntegers)\n",
        "problem_9.I = Var(problem_9.T.union({0}), domain=NonNegativeIntegers)\n",
        "problem_9.y = Var(problem_9.T.union({0}), domain=NonNegativeIntegers)\n",
        "problem_9.z = Var(problem_9.T.union({0}), domain=NonNegativeIntegers)\n",
        "problem_9.m = Var(problem_9.T.union({0}), domain=NonNegativeIntegers)\n",
        "\n",
        "# define objective function\n",
        "problem_9.obj = Objective(expr=sum(problem_9.C1 * (problem_9.y[t] + problem_9.z[t] + (problem_9.z[t]/5)) + problem_9.C2 * problem_9.m[t] + problem_9.Ch * problem_9.I[t] + problem_9.Cf * problem_9.x[t] for t in problem_9.T), sense=minimize)\n",
        "\n",
        "# define constraints\n",
        "problem_9.r1 = ConstraintList()\n",
        "for t in problem_9.T:\n",
        "    problem_9.r1.add(problem_9.I[t-1] + problem_9.y[t] * problem_9.Num == problem_9.D[t] + problem_9.x[t-1] + problem_9.I[t] - problem_9.x[t])\n",
        "problem_9.r2 = ConstraintList()\n",
        "for t in problem_9.T:\n",
        "    problem_9.r2.add(problem_9.y[t] == problem_9.y[t-1] - problem_9.m[t-1] + problem_9.z[t-1] - problem_9.z[t]/5 + problem_9.z[t-1]/5)\n",
        "problem_9.r3 = Constraint(expr=problem_9.x[0] == 0)\n",
        "problem_9.r4 = Constraint(expr=problem_9.I[0] == 10)\n",
        "problem_9.r5 = Constraint(expr=problem_9.y[0] == 20)\n",
        "problem_9.r6 = Constraint(expr=problem_9.z[0] == 0)\n",
        "problem_9.r7 = Constraint(expr=problem_9.m[0] == 0)\n",
        "\n",
        "# set solver\n",
        "solver = SolverFactory('gurobi')\n",
        "results = solver.solve(problem_9)\n",
        "\n",
        "print('Solución optima:')\n",
        "# print as matrix\n",
        "for t in problem_9.T:\n",
        "    print(t, sep=' ', end=' ')\n",
        "print('')\n",
        "print('Puertas no entregadas', end=' ')\n",
        "for x in problem_9.x:\n",
        "    print(value(problem_9.x[x]), sep=' ', end=' ')\n",
        "print('')\n",
        "print('Puertas en inventario', end=' ')\n",
        "for i in problem_9.I:\n",
        "    print(value(problem_9.I[i]), sep=' ', end=' ')\n",
        "print('')\n",
        "print('Expertos en producción', end=' ')\n",
        "for y in problem_9.y:\n",
        "    print(value(problem_9.y[y]), sep=' ', end=' ')\n",
        "print('')\n",
        "print('Novatos en capacitación', end=' ')\n",
        "for z in problem_9.z:\n",
        "    print(value(problem_9.z[z]), sep=' ', end=' ')\n",
        "print('')\n",
        "print('Operarios despedidos', end=' ')\n",
        "for m in problem_9.m:\n",
        "    print(value(problem_9.m[m]), sep=' ', end=' ')\n",
        "print('')\n",
        "print('Valor óptimo:', value(problem_9.obj))\n"
      ]
    },
    {
      "cell_type": "markdown",
      "source": [
        "## Variación propuesta"
      ],
      "metadata": {
        "id": "bxogrV6jdEDJ"
      }
    },
    {
      "cell_type": "code",
      "execution_count": 13,
      "metadata": {
        "id": "167GCQQKad_z",
        "outputId": "ff87a6b2-c30b-4791-e363-eba8a025058d",
        "colab": {
          "base_uri": "https://localhost:8080/"
        }
      },
      "outputs": [
        {
          "output_type": "stream",
          "name": "stdout",
          "text": [
            "Solución optima:\n",
            "1 2 3 4 5 \n",
            "Puertas no entregadas 42.0 0.0 0.0 102.0 6.0 0.0 \n",
            "Puertas en inventario 0.0 6.0 2.0 0.0 0.0 10.0 \n",
            "Expertos en producción 6.0 31.0 37.0 37.0 37.0 20.0 \n",
            "Novatos en capacitación 28.0 6.0 0.0 0.0 0.0 0.0 \n",
            "Operarios despedidos 0.0 0.0 0.0 0.0 -0.0 0.0 \n",
            "Valor óptimo: 24480.0\n"
          ]
        }
      ],
      "source": [
        "problem_9 = ConcreteModel()\n",
        "\n",
        "# define set T 1..5\n",
        "problem_9.T = RangeSet(1,5)\n",
        "\n",
        "demand = {1: 100, 2: 200, 3: 300, 4: 400, 5: 200}\n",
        "storage_cost = 10\n",
        "miss_cost = 30\n",
        "salary = 100\n",
        "firing_cost = 100\n",
        "doors_per_worker_week = 8\n",
        "beginners_training_days = 2\n",
        "\n",
        "# define parameters\n",
        "problem_9.D = Param(problem_9.T, initialize=demand)\n",
        "problem_9.Ch = Param(initialize=storage_cost)\n",
        "problem_9.Cf = Param(initialize=miss_cost)\n",
        "problem_9.C1 = Param(initialize=salary)\n",
        "problem_9.C2 = Param(initialize=firing_cost)\n",
        "problem_9.Num = Param(initialize=doors_per_worker_week)\n",
        "problem_9.training_days = Param(initialize=beginners_training_days)\n",
        "\n",
        "# define variables\n",
        "problem_9.x = Var(problem_9.T.union({0}), domain=NonNegativeIntegers)\n",
        "problem_9.I = Var(problem_9.T.union({0}), domain=NonNegativeIntegers)\n",
        "problem_9.y = Var(problem_9.T.union({0}), domain=NonNegativeIntegers)\n",
        "problem_9.z = Var(problem_9.T.union({0}), domain=NonNegativeIntegers)\n",
        "problem_9.m = Var(problem_9.T.union({0}), domain=NonNegativeIntegers)\n",
        "\n",
        "# define objective function\n",
        "problem_9.obj = Objective(expr=sum(problem_9.C1 * (problem_9.y[t] + problem_9.z[t] + (problem_9.z[t]/problem_9.training_days)) + problem_9.C2 * problem_9.m[t] + problem_9.Ch * problem_9.I[t] + problem_9.Cf * problem_9.x[t] for t in problem_9.T), sense=minimize)\n",
        "\n",
        "# define constraints\n",
        "problem_9.r1 = ConstraintList()\n",
        "for t in problem_9.T:\n",
        "    problem_9.r1.add(problem_9.I[t-1] + problem_9.y[t] * problem_9.Num == problem_9.D[t] + problem_9.x[t-1] + problem_9.I[t] - problem_9.x[t])\n",
        "problem_9.r2 = ConstraintList()\n",
        "for t in problem_9.T:\n",
        "    problem_9.r2.add(\n",
        "            problem_9.y[t] ==\n",
        "            problem_9.y[t - 1] - problem_9.m[t - 1] + problem_9.z[t - 1] - problem_9.z[t] / problem_9.training_days\n",
        "        )\n",
        "problem_9.r3 = Constraint(expr=problem_9.x[0] == 0)\n",
        "problem_9.r4 = Constraint(expr=problem_9.I[0] == 10)\n",
        "problem_9.r5 = Constraint(expr=problem_9.y[0] == 20)\n",
        "problem_9.r6 = Constraint(expr=problem_9.z[0] == 0)\n",
        "problem_9.r7 = Constraint(expr=problem_9.m[0] == 0)\n",
        "\n",
        "# set solver\n",
        "solver = SolverFactory('gurobi')\n",
        "results = solver.solve(problem_9)\n",
        "\n",
        "print('Solución optima:')\n",
        "# print as matrix\n",
        "for t in problem_9.T:\n",
        "    print(t, sep=' ', end=' ')\n",
        "print('')\n",
        "print('Puertas no entregadas', end=' ')\n",
        "for x in problem_9.x:\n",
        "    print(value(problem_9.x[x]), sep=' ', end=' ')\n",
        "print('')\n",
        "print('Puertas en inventario', end=' ')\n",
        "for i in problem_9.I:\n",
        "    print(value(problem_9.I[i]), sep=' ', end=' ')\n",
        "print('')\n",
        "print('Expertos en producción', end=' ')\n",
        "for y in problem_9.y:\n",
        "    print(value(problem_9.y[y]), sep=' ', end=' ')\n",
        "print('')\n",
        "print('Novatos en capacitación', end=' ')\n",
        "for z in problem_9.z:\n",
        "    print(value(problem_9.z[z]), sep=' ', end=' ')\n",
        "print('')\n",
        "print('Operarios despedidos', end=' ')\n",
        "for m in problem_9.m:\n",
        "    print(value(problem_9.m[m]), sep=' ', end=' ')\n",
        "print('')\n",
        "print('Valor óptimo:', value(problem_9.obj))\n"
      ]
    },
    {
      "cell_type": "markdown",
      "source": [
        "# Problema 10"
      ],
      "metadata": {
        "id": "57WDuFcqdN6B"
      }
    },
    {
      "cell_type": "code",
      "execution_count": 14,
      "metadata": {
        "id": "fARbabp3ad_z",
        "outputId": "db0ce748-78e7-43cb-9a99-6475203b8d2b",
        "colab": {
          "base_uri": "https://localhost:8080/"
        }
      },
      "outputs": [
        {
          "output_type": "stream",
          "name": "stdout",
          "text": [
            "Solución optima:\n",
            "(1, 1) 0.0\n",
            "(1, 2) 0.0\n",
            "(2, 1) 3000.0\n",
            "(2, 2) 0.0\n",
            "(3, 1) 1500.0000000000007\n",
            "(3, 2) 0.0\n",
            "Valor óptimo: 877500.0000000002\n"
          ]
        }
      ],
      "source": [
        "problem_10 = ConcreteModel()\n",
        "\n",
        "# define sets\n",
        "problem_10.I = RangeSet(1,2)\n",
        "problem_10.J = RangeSet(1,4)\n",
        "problem_10.K = RangeSet(1,3)\n",
        "\n",
        "# define data\n",
        "max_cap = {1: 5000, 2: 3000, 3: 4000}\n",
        "mper_perton_permine = {\n",
        "    (1, 1): 0.15, (2, 1): 0.20, (3, 1): 0.40, (4, 1): 0.25,\n",
        "    (1, 2): 0.10, (2, 2): 0.30, (3, 2): 0.10, (4, 2): 0.40,\n",
        "    (1, 3): 0.5, (2, 3): 0.10, (3, 3): 0.70, (4, 3): 0.10\n",
        "}\n",
        "cost_ton = {1: 70, 2: 50, 3: 65}\n",
        "sale_price = {1: 250, 2: 170}\n",
        "\n",
        "# define parameters\n",
        "problem_10.M = Param(initialize=10000)\n",
        "problem_10.Cmax = Param(problem_10.K, initialize=max_cap)\n",
        "problem_10.Por = Param(problem_10.J, problem_10.K, initialize=mper_perton_permine)\n",
        "problem_10.CT = Param(problem_10.K, initialize=cost_ton)\n",
        "problem_10.PV = Param(problem_10.I, initialize=sale_price)\n",
        "\n",
        "# define variables\n",
        "problem_10.X = Var(problem_10.K, problem_10.I, domain=NonNegativeReals)\n",
        "problem_10.Y = Var(problem_10.K - {3}, domain=Binary)\n",
        "problem_10.Z = Var(domain=Binary)\n",
        "\n",
        "# define objective function\n",
        "problem_10.obj = Objective(expr=sum(problem_10.PV[i] * problem_10.X[k,i] for i in problem_10.I for k in problem_10.K) - sum(problem_10.CT[k] * problem_10.X[k,i] for i in problem_10.I for k in problem_10.K), sense=maximize)\n",
        "\n",
        "# define constraints\n",
        "problem_10.r1 = ConstraintList()\n",
        "for k in {1,2}:\n",
        "    problem_10.r1.add(sum(problem_10.X[k,i] for i in problem_10.I) <= problem_10.Cmax[k] * problem_10.Y[k])\n",
        "problem_10.r2 = ConstraintList()\n",
        "for k in {3}:\n",
        "    problem_10.r2.add(sum(problem_10.X[k,i] for i in problem_10.I) <= problem_10.Cmax[k])\n",
        "problem_10.r3 = Constraint(expr=sum(problem_10.X[k,1] * problem_10.Por[1,k] for k in problem_10.K) <= sum(problem_10.X[k,1] * 0.4 for k in problem_10.K))\n",
        "problem_10.r4 = Constraint(expr=sum(problem_10.X[k,1] * problem_10.Por[2,k] for k in problem_10.K) <= sum(problem_10.X[k,1] * 0.75 for k in problem_10.K))\n",
        "problem_10.r5 = Constraint(expr=sum(problem_10.X[k,1] * problem_10.Por[4,k] for k in problem_10.K) >= sum(problem_10.X[k,1] * 0.3 for k in problem_10.K))\n",
        "problem_10.r6 = Constraint(expr=sum(problem_10.X[k,2] * problem_10.Por[2,k] for k in problem_10.K) >= sum(problem_10.X[k,2] * 0.25 for k in problem_10.K))\n",
        "problem_10.r7 = Constraint(expr=sum(problem_10.X[k,2] * problem_10.Por[2,k] for k in problem_10.K) <= sum(problem_10.X[k,2] * 0.8 for k in problem_10.K))\n",
        "problem_10.r8 = Constraint(expr=sum(problem_10.X[k,2] * problem_10.Por[3,k] for k in problem_10.K) >= sum(problem_10.X[k,2] * 0.5 for k in problem_10.K))\n",
        "problem_10.r9 = Constraint(expr=sum(problem_10.X[k,2] * problem_10.Por[4,k] for k in problem_10.K) <= sum(problem_10.X[k,2] * 0.66 for k in problem_10.K))\n",
        "problem_10.r10 = Constraint(expr=problem_10.Y[1] == 1 - problem_10.Y[2])\n",
        "problem_10.r11 = Constraint(expr=problem_10.X[3,1] <= problem_10.Z * problem_10.M)\n",
        "problem_10.r12 = Constraint(expr=problem_10.X[3,2] <= (1 - problem_10.Z) * problem_10.M)\n",
        "\n",
        "solver = SolverFactory('gurobi')\n",
        "results = solver.solve(problem_10)\n",
        "\n",
        "print('Solución optima:')\n",
        "for x in problem_10.X:\n",
        "    print(x, value(problem_10.X[x]))\n",
        "print('Valor óptimo:', value(problem_10.obj))"
      ]
    },
    {
      "cell_type": "markdown",
      "source": [
        "# Problema 11"
      ],
      "metadata": {
        "id": "jdz4QwvHdPVZ"
      }
    },
    {
      "cell_type": "code",
      "execution_count": 15,
      "metadata": {
        "id": "aLHaWsWHad_0",
        "outputId": "642d3b97-91cc-4584-fa5e-76b3731e1e42",
        "colab": {
          "base_uri": "https://localhost:8080/"
        }
      },
      "outputs": [
        {
          "output_type": "stream",
          "name": "stdout",
          "text": [
            "Solución optima:\n",
            "(1, 1, 1) 3000.0\n",
            "(1, 1, 2) -0.0\n",
            "(1, 2, 1) 666.0\n",
            "(1, 2, 2) 2334.0\n",
            "(1, 3, 1) 1.0\n",
            "(1, 3, 2) 2999.0\n",
            "(2, 1, 1) 2000.0\n",
            "(2, 1, 2) -0.0\n",
            "(2, 2, 1) 2000.0\n",
            "(2, 2, 2) -0.0\n",
            "(2, 3, 1) -0.0\n",
            "(2, 3, 2) 2000.0\n",
            "Valor óptimo: 24443.45\n"
          ]
        }
      ],
      "source": [
        "problem_11 = ConcreteModel()\n",
        "\n",
        "# define sets\n",
        "problem_11.I = RangeSet(1,2)\n",
        "problem_11.J = RangeSet(1,3)\n",
        "problem_11.K =RangeSet(1,2)\n",
        "\n",
        "# define data\n",
        "demand = {1: 3000, 2: 2000}\n",
        "capacity = {(1,1,1): 0.5, (1,1,2): 0.6, (1,2,1): 3.75, (1,2,2): 4, (1,3,1): 0.6, (1,3,2): 0.65,\n",
        "            (2,1,1): 0.5, (2,1,2): 0.6, (2,2,1): 3.3, (2,2,2): 3.9, (2,3,1): 0.75, (2,3,2): 0.78}\n",
        "timeontask = {(1,1): 1, (1,2): 3, (1,3): 1, (2,1): 1, (2,2): 2.5, (2,3): 1.5}\n",
        "\n",
        "# define parameters\n",
        "problem_11.Dem = Param(problem_11.I, initialize=demand)\n",
        "problem_11.C = Param(problem_11.I, problem_11.J, problem_11.K, initialize=capacity)\n",
        "problem_11.CapH = Param(initialize=200)\n",
        "problem_11.CapHE = Param(initialize=50)\n",
        "problem_11.CHE = Param(initialize=9)\n",
        "problem_11.T = Param(problem_11.I, problem_11.J, initialize=timeontask)\n",
        "\n",
        "# define variables\n",
        "problem_11.X = Var(problem_11.I, problem_11.J, problem_11.K, within=NonNegativeIntegers)\n",
        "problem_11.H = Var(within=NonNegativeReals)\n",
        "\n",
        "# define objective function\n",
        "problem_11.obj = Objective(expr=sum(problem_11.C[i,j,k] * problem_11.X[i,j,k] for i in problem_11.I for j in problem_11.J for k in problem_11.K) + problem_11.CHE * problem_11.H, sense=minimize)\n",
        "\n",
        "# define constraints\n",
        "problem_11.r1 = ConstraintList()\n",
        "for i in problem_11.I:\n",
        "    for j in problem_11.J:\n",
        "        problem_11.r1.add(sum(problem_11.X[i,j,k] for k in problem_11.K) >= problem_11.Dem[i])\n",
        "problem_11.r2 = Constraint(expr=problem_11.H <= problem_11.CapHE)\n",
        "problem_11.r3 = Constraint(expr=sum((problem_11.T[i,j]/60) * problem_11.X[i,j,1] for i in problem_11.I for j in problem_11.J) <= problem_11.H + problem_11.CapH)\n",
        "\n",
        "solver = SolverFactory('gurobi')\n",
        "results = solver.solve(problem_11)\n",
        "\n",
        "print('Solución optima:')\n",
        "for x in problem_11.X:\n",
        "    print(x, value(problem_11.X[x]))\n",
        "print('Valor óptimo:', value(problem_11.obj))\n"
      ]
    },
    {
      "cell_type": "markdown",
      "source": [
        "# Problema 12"
      ],
      "metadata": {
        "id": "eEnWxyNXdSls"
      }
    },
    {
      "cell_type": "code",
      "execution_count": 16,
      "metadata": {
        "id": "nxkCfHClad_0",
        "outputId": "1cea59b7-1eed-4062-8712-f3b356920574",
        "colab": {
          "base_uri": "https://localhost:8080/"
        }
      },
      "outputs": [
        {
          "output_type": "stream",
          "name": "stdout",
          "text": [
            "Solución optima:\n",
            "(1, 1, 1) -0.0\n",
            "(1, 1, 2) -0.0\n",
            "(1, 2, 1) 1.0\n",
            "(1, 2, 2) -0.0\n",
            "(1, 3, 1) 0.0\n",
            "(1, 3, 2) 1.0\n",
            "(1, 4, 1) 1.0\n",
            "(1, 4, 2) -0.0\n",
            "(2, 1, 1) 1.0\n",
            "(2, 1, 2) 1.0\n",
            "(2, 2, 1) 1.0\n",
            "(2, 2, 2) -0.0\n",
            "(2, 3, 1) -0.0\n",
            "(2, 3, 2) 1.0\n",
            "(2, 4, 1) 1.0\n",
            "(2, 4, 2) 1.0\n",
            "(3, 1, 1) 1.0\n",
            "(3, 1, 2) 1.0\n",
            "(3, 2, 1) 0.0\n",
            "(3, 2, 2) 1.0\n",
            "(3, 3, 1) 1.0\n",
            "(3, 3, 2) 0.0\n",
            "(3, 4, 1) 1.0\n",
            "(3, 4, 2) 1.0\n",
            "(4, 1, 1) -0.0\n",
            "(4, 1, 2) -0.0\n",
            "(4, 2, 1) -0.0\n",
            "(4, 2, 2) -0.0\n",
            "(4, 3, 1) -0.0\n",
            "(4, 3, 2) -0.0\n",
            "(4, 4, 1) -0.0\n",
            "(4, 4, 2) -0.0\n",
            "(5, 1, 1) 1.0\n",
            "(5, 1, 2) 1.0\n",
            "(5, 2, 1) 0.0\n",
            "(5, 2, 2) 1.0\n",
            "(5, 3, 1) 1.0\n",
            "(5, 3, 2) 0.0\n",
            "(5, 4, 1) 1.0\n",
            "(5, 4, 2) 1.0\n",
            "Valor óptimo: 780.0\n"
          ]
        }
      ],
      "source": [
        "problem_12 = ConcreteModel()\n",
        "\n",
        "# define sets\n",
        "problem_12.I = RangeSet(1,5)\n",
        "problem_12.J = RangeSet(1,4)\n",
        "problem_12.K = RangeSet(1,2)\n",
        "\n",
        "# define data\n",
        "cost = {1: 50, 2: 30, 3: 35, 4: 60, 5: 40}\n",
        "demand = {(1,1): 3, (1,2): 3, (2,1): 2, (2,2): 2, (3,1): 2, (3,2): 2, (4,1): 4, (4,2): 3}\n",
        "\n",
        "# Param C{I}\n",
        "problem_12.C = Param(problem_12.I, initialize=cost)\n",
        "problem_12.DEM = Param(problem_12.J, problem_12.K, initialize=demand)\n",
        "\n",
        "# define variables\n",
        "problem_12.x = Var(problem_12.I, problem_12.J, problem_12.K, within=NonNegativeIntegers)\n",
        "\n",
        "# define objective function\n",
        "problem_12.z = Objective(expr=sum(problem_12.C[i] * problem_12.x[i,j,k] for i in problem_12.I for j in problem_12.J for k in problem_12.K), sense=minimize)\n",
        "\n",
        "# define constraints\n",
        "problem_12.r1 = ConstraintList()\n",
        "for j in problem_12.J:\n",
        "    for k in problem_12.K:\n",
        "        problem_12.r1.add(sum(problem_12.x[i,j,k] for i in problem_12.I) >= problem_12.DEM[j,k])\n",
        "problem_12.r2 = ConstraintList()\n",
        "for i in problem_12.I:\n",
        "    for k in problem_12.K:\n",
        "        problem_12.r2.add(problem_12.x[i,4,k] >= problem_12.x[i,1,k])\n",
        "problem_12.r3 = ConstraintList()\n",
        "for i in problem_12.I:\n",
        "    for k in problem_12.K:\n",
        "        problem_12.r3.add(problem_12.x[i,2,k] + problem_12.x[i,3,k] <= 1)\n",
        "problem_12.r4 = ConstraintList()\n",
        "for i in problem_12.I:\n",
        "    for k in problem_12.K:\n",
        "        problem_12.r4.add(sum(problem_12.x[i,j,k] for j in range(1,4)) <= 2)\n",
        "problem_12.r5 = ConstraintList()\n",
        "for i in problem_12.I:\n",
        "    for k in problem_12.K:\n",
        "        problem_12.r5.add(sum(problem_12.x[i,j,k] for j in range(2,5)) <= 2)\n",
        "\n",
        "solver = SolverFactory('gurobi')\n",
        "results = solver.solve(problem_12)\n",
        "\n",
        "print('Solución optima:')\n",
        "for x in problem_12.x:\n",
        "    print(x, value(problem_12.x[x]))\n",
        "print('Valor óptimo:', value(problem_12.z))"
      ]
    },
    {
      "cell_type": "markdown",
      "source": [
        "# Problema 13"
      ],
      "metadata": {
        "id": "S_4EdBN4paN3"
      }
    },
    {
      "cell_type": "code",
      "execution_count": 18,
      "metadata": {
        "id": "xy-aU6ufad_0",
        "outputId": "fb00d158-3c13-4546-b8a6-03af6b1f9171",
        "colab": {
          "base_uri": "https://localhost:8080/"
        }
      },
      "outputs": [
        {
          "output_type": "stream",
          "name": "stdout",
          "text": [
            "Solución optima:\n",
            "x[i,j] = \n",
            "x[ 1 , 1 ] =  90.0\n",
            "x[ 1 , 2 ] =  0.0\n",
            "x[ 1 , 3 ] =  0.0\n",
            "x[ 2 , 1 ] =  0.0\n",
            "x[ 2 , 2 ] =  120.0\n",
            "x[ 2 , 3 ] =  0.0\n",
            "x[ 3 , 1 ] =  0.0\n",
            "x[ 3 , 2 ] =  0.0\n",
            "x[ 3 , 3 ] =  80.0\n",
            "x[ 4 , 1 ] =  10.0\n",
            "x[ 4 , 2 ] =  0.0\n",
            "x[ 4 , 3 ] =  0.0\n",
            "z =  3980.0\n"
          ]
        }
      ],
      "source": [
        "problem_13 = ConcreteModel()\n",
        "\n",
        "# define sets\n",
        "problem_13.I = RangeSet(1,4)\n",
        "problem_13.J = RangeSet(1,3)\n",
        "\n",
        "# define data\n",
        "cost = {(1,1): 18, (1,2): 48, (1,3): 17,\n",
        "        (2,1): 47, (2,2): 10, (2,3): 48,\n",
        "        (3,1): 38, (3,2): 10, (3,3): 12,\n",
        "        (4,1): 20, (4,2): 50, (4,3): 35}\n",
        "fab_cap = {1: 75, 2: 75, 3: 75, 4: 75}\n",
        "demand = {1: 100, 2: 120, 3: 80}\n",
        "\n",
        "# define parameters\n",
        "problem_13.c = Param(problem_13.I, problem_13.J, initialize=cost)\n",
        "problem_13.of = Param(problem_13.I, initialize=fab_cap)\n",
        "problem_13.dem = Param(problem_13.J, initialize=demand)\n",
        "\n",
        "# define variables\n",
        "problem_13.x = Var(problem_13.I, problem_13.J, within=NonNegativeReals)\n",
        "problem_13.H = Var(problem_13.I, problem_13.I, within=NonNegativeReals)\n",
        "\n",
        "# define objective function\n",
        "problem_13.z = Objective(expr=sum(problem_13.c[i,j] * problem_13.x[i,j] for i in problem_13.I for j in problem_13.J), sense=minimize)\n",
        "\n",
        "# define constraints\n",
        "problem_13.r1 = ConstraintList()\n",
        "for j in problem_13.J:\n",
        "    problem_13.r1.add(sum(problem_13.x[i,j] for i in problem_13.I) >= problem_13.dem[j])\n",
        "problem_13.r2 = ConstraintList()\n",
        "for i in problem_13.I:\n",
        "    problem_13.r2.add(sum(problem_13.x[i,j] for j in problem_13.J) <= sum(problem_13.H[k,i] for k in problem_13.I))\n",
        "problem_13.r3 = ConstraintList()\n",
        "for i in problem_13.I:\n",
        "    problem_13.r3.add(sum(problem_13.H[i,k] for k in problem_13.I) <= problem_13.of[i])\n",
        "problem_13.r4 = ConstraintList()\n",
        "for i in problem_13.I:\n",
        "    problem_13.r4.add(sum(problem_13.H[k,i] for k in problem_13.I) >= 10)\n",
        "\n",
        "solver = SolverFactory('gurobi')\n",
        "solver.solve(problem_13)\n",
        "\n",
        "print('Solución optima:')\n",
        "print('x[i,j] = ')\n",
        "for i in problem_13.I:\n",
        "    for j in problem_13.J:\n",
        "        print('x[', i, ',', j, '] = ', value(problem_13.x[i,j]))\n",
        "print('z = ', value(problem_13.z))"
      ]
    },
    {
      "cell_type": "markdown",
      "source": [
        "# Problema 14"
      ],
      "metadata": {
        "id": "UCcI-Vwkpimi"
      }
    },
    {
      "cell_type": "code",
      "execution_count": 19,
      "metadata": {
        "id": "NOQsTpb8ad_0",
        "outputId": "11860150-b9f9-4880-8152-fd1fc9afe964",
        "colab": {
          "base_uri": "https://localhost:8080/"
        }
      },
      "outputs": [
        {
          "output_type": "stream",
          "name": "stdout",
          "text": [
            "Solución optima:\n",
            "H =  96.0\n",
            "E[i,j] = \n",
            "E[ 1 , 1 ] =  0.0\n",
            "E[ 1 , 2 ] =  25.0\n",
            "E[ 2 , 1 ] =  0.0\n",
            "E[ 2 , 2 ] =  71.0\n",
            "z =  21410.0\n"
          ]
        }
      ],
      "source": [
        "problem_14 = ConcreteModel()\n",
        "\n",
        "# define sets\n",
        "problem_14.I = RangeSet(1,2)\n",
        "problem_14.J = RangeSet(1,2)\n",
        "problem_14.K = RangeSet(1,2)\n",
        "problem_14.M = RangeSet(1,2)\n",
        "\n",
        "# define data\n",
        "sale_price_sw = {1: 200, 2: 150}\n",
        "cost = {1: 25, 2: 15}\n",
        "req_sw = {1: 1, 2: 2}\n",
        "req_axe = {1: 2, 2: 1}\n",
        "timeontasksw = {(1,1): 6, (1,2): 2, (2,1): 0, (2,2): 3}\n",
        "timeontaskaxe = {1: 3, 2: 2}\n",
        "reserve = {1: 600, 2: 500}\n",
        "\n",
        "# define parameters\n",
        "problem_14.Pe = Param(problem_14.I, initialize=sale_price_sw)\n",
        "problem_14.Ph = Param(initialize=180)\n",
        "problem_14.C = Param(problem_14.M, initialize=cost)\n",
        "problem_14.Me = Param(problem_14.M, initialize=req_sw)\n",
        "problem_14.Mh = Param(problem_14.M, initialize=req_axe)\n",
        "problem_14.CapE = Param(initialize=200)\n",
        "problem_14.CapH = Param(initialize=220)\n",
        "problem_14.CapT = Param(initialize=25)\n",
        "problem_14.Te = Param(problem_14.K, problem_14.J, initialize=timeontasksw)\n",
        "problem_14.Th = Param(problem_14.K, initialize=timeontaskaxe)\n",
        "problem_14.Horas = Param(initialize=480)\n",
        "problem_14.Res = Param(problem_14.M, initialize=reserve)\n",
        "\n",
        "# define variables\n",
        "problem_14.E = Var(problem_14.I, problem_14.J, within=NonNegativeReals)\n",
        "problem_14.H = Var(within=NonNegativeReals)\n",
        "\n",
        "# define objective function\n",
        "problem_14.z = Objective(expr=sum(problem_14.Pe[i] * problem_14.E[i,j] for i in problem_14.I for j in problem_14.J) + problem_14.Ph * problem_14.H - sum(problem_14.C[m] * (problem_14.Me[m] * sum(problem_14.E[i,j] for i in problem_14.I for j in problem_14.J) + problem_14.Mh[m] * problem_14.H) for m in problem_14.M), sense=maximize)\n",
        "\n",
        "# define constraints\n",
        "problem_14.r1 = Constraint(expr=(1/problem_14.CapE) * sum(problem_14.E[i,j] for i in problem_14.I for j in problem_14.J) + (1/problem_14.CapH) * problem_14.H <= 1)\n",
        "problem_14.r2 = Constraint(expr=sum(problem_14.E[1,j] for j in problem_14.J) <= problem_14.CapT)\n",
        "problem_14.r3 = ConstraintList()\n",
        "for k in problem_14.K:\n",
        "    problem_14.r3.add(sum(problem_14.Te[k,j] * problem_14.E[i,j] for j in problem_14.J for i in problem_14.I) + problem_14.Th[k] * problem_14.H <= problem_14.Horas)\n",
        "problem_14.r4 = ConstraintList()\n",
        "for m in problem_14.M:\n",
        "    problem_14.r4.add(problem_14.Me[m] * sum(problem_14.E[i,j] for i in problem_14.I for j in problem_14.J) + problem_14.Mh[m] * problem_14.H <= problem_14.Res[m])\n",
        "\n",
        "solver = SolverFactory('gurobi')\n",
        "solver.solve(problem_14)\n",
        "\n",
        "print('Solución optima:')\n",
        "print ('H = ', value(problem_14.H))\n",
        "print('E[i,j] = ')\n",
        "for i in problem_14.I:\n",
        "    for j in problem_14.J:\n",
        "        print('E[', i, ',', j, '] = ', value(problem_14.E[i,j]))\n",
        "print('z = ', value(problem_14.z))\n"
      ]
    },
    {
      "cell_type": "markdown",
      "source": [
        "# Problema 15"
      ],
      "metadata": {
        "id": "VVgn1NXOpkYK"
      }
    },
    {
      "cell_type": "code",
      "execution_count": 20,
      "metadata": {
        "id": "7vNFWKgWad_0",
        "outputId": "90dd1764-f1ec-4a74-e09a-7d66366a0fbd",
        "colab": {
          "base_uri": "https://localhost:8080/"
        }
      },
      "outputs": [
        {
          "output_type": "stream",
          "name": "stdout",
          "text": [
            "Solución optima:\n",
            "x[ A ] =  -0.0\n",
            "y[ A ] =  0.0\n",
            "x[ B ] =  -0.0\n",
            "y[ B ] =  0.0\n",
            "x[ C ] =  3.0\n",
            "y[ C ] =  1.0\n",
            "x[ D ] =  3.0\n",
            "y[ D ] =  1.0\n",
            "x[ E ] =  4.0\n",
            "y[ E ] =  0.0\n",
            "x[ F ] =  10.0\n",
            "y[ F ] =  0.0\n",
            "x[ G ] =  6.0\n",
            "y[ G ] =  0.0\n",
            "x[ H ] =  12.0\n",
            "y[ H ] =  0.0\n",
            "x[ I ] =  10.0\n",
            "y[ I ] =  0.0\n",
            "z =  2.0\n"
          ]
        }
      ],
      "source": [
        "problem_15 = ConcreteModel()\n",
        "\n",
        "# define sets\n",
        "problem_15.I = Set(initialize=['A','B','C','D','E','F','G','H','I'])\n",
        "problem_15.J = Set(initialize=[1,2])\n",
        "problem_15.Pred = Set(initialize=[('A','C'),('A','D'),('B','E'),('C','E'),('E','F'),('D','G'),('F','H'),('G','I')])\n",
        "\n",
        "# define data\n",
        "timeontask = {('A',1): 3, ('A',2):  1,\n",
        "              ('B',1): 4, ('B',2):  2,\n",
        "              ('C',1): 2, ('C',2):  0.5,\n",
        "              ('D',1): 5, ('D',2):  2,\n",
        "              ('E',1): 6, ('E',2):  1,\n",
        "              ('F',1): 2, ('F',2):  1,\n",
        "              ('G',1): 4, ('G',2):  3,\n",
        "              ('H',1): 3, ('H',2):  2,\n",
        "              ('I',1): 5, ('I',2): 4}\n",
        "cost = {'A': 4,\n",
        "        'B': 1,\n",
        "        'C': 1,\n",
        "        'D': 1,\n",
        "        'E': 3,\n",
        "        'F': 7,\n",
        "        'G': 9,\n",
        "        'H': 5,\n",
        "        'I': 8}\n",
        "\n",
        "# define parameters\n",
        "problem_15.dueDate = Param(initialize=15)\n",
        "problem_15.P = Param(problem_15.I, problem_15.J, initialize=timeontask)\n",
        "problem_15.costo = Param(problem_15.I, initialize=cost)\n",
        "\n",
        "# define variables\n",
        "problem_15.x = Var(problem_15.I, within=NonNegativeIntegers)\n",
        "problem_15.y = Var(problem_15.I, within=Binary)\n",
        "\n",
        "# define objective function\n",
        "problem_15.z = Objective(expr=sum(problem_15.costo[i] * problem_15.y[i] for i in problem_15.I), sense=minimize)\n",
        "\n",
        "# define constraints\n",
        "problem_15.r1 = ConstraintList()\n",
        "for i in problem_15.I:\n",
        "    problem_15.r1.add(problem_15.x[i] + problem_15.P[i,1] * (1-problem_15.y[i]) + problem_15.P[i,2] * problem_15.y[i] <= problem_15.dueDate)\n",
        "problem_15.r2 = ConstraintList()\n",
        "for i,k in problem_15.Pred:\n",
        "    problem_15.r2.add(problem_15.x[k] >= problem_15.x[i] + problem_15.P[i,1] * (1-problem_15.y[i]) + problem_15.P[i,2] * problem_15.y[i])\n",
        "\n",
        "solver = SolverFactory('gurobi')\n",
        "solver.solve(problem_15)\n",
        "\n",
        "print('Solución optima:')\n",
        "for i in problem_15.I:\n",
        "    print('x[', i, '] = ', value(problem_15.x[i]))\n",
        "    print('y[', i, '] = ', value(problem_15.y[i]))\n",
        "print('z = ', value(problem_15.z))\n"
      ]
    }
  ],
  "metadata": {
    "kernelspec": {
      "display_name": "venv",
      "language": "python",
      "name": "python3"
    },
    "language_info": {
      "codemirror_mode": {
        "name": "ipython",
        "version": 3
      },
      "file_extension": ".py",
      "mimetype": "text/x-python",
      "name": "python",
      "nbconvert_exporter": "python",
      "pygments_lexer": "ipython3",
      "version": "3.8.9"
    },
    "orig_nbformat": 4,
    "colab": {
      "provenance": []
    }
  },
  "nbformat": 4,
  "nbformat_minor": 0
}